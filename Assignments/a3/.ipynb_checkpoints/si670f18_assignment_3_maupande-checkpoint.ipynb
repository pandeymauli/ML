{
 "cells": [
  {
   "cell_type": "markdown",
   "metadata": {},
   "source": [
    "---\n",
    "\n",
    "_You are currently looking at **version 1.1** of this notebook. _\n",
    "\n",
    "---"
   ]
  },
  {
   "cell_type": "markdown",
   "metadata": {},
   "source": [
    "# SI 670 Assignment 3 - Linear classifiers, evaluation methods, and grid search (75 points total)"
   ]
  },
  {
   "cell_type": "markdown",
   "metadata": {},
   "source": [
    "In this assignment you will train several linear classifier models and evaluate how effectively they predict instances of fraud using data based on [this dataset from Kaggle](https://www.kaggle.com/dalpozz/creditcardfraud). Then you'll perform a grid search to find optimal parameters. \n",
    " \n",
    "Each row in `fraud_data.csv` corresponds to a credit card transaction. Features include confidential variables `V1` through `V28` as well as `Amount` which is the amount of the transaction. \n",
    " \n",
    "The target is stored in the `class` column, where a value of 1 corresponds to an instance of fraud and 0 corresponds to an instance of not fraud."
   ]
  },
  {
   "cell_type": "code",
   "execution_count": 1,
   "metadata": {},
   "outputs": [],
   "source": [
    "import numpy as np\n",
    "import pandas as pd"
   ]
  },
  {
   "cell_type": "markdown",
   "metadata": {},
   "source": [
    "### Question 1 (5 points)\n",
    "Import the data from `fraud_data.csv`. What percentage of the observations in the dataset are instances of fraud?\n",
    "\n",
    "*This function should return a float between 0 and 1.* "
   ]
  },
  {
   "cell_type": "code",
   "execution_count": 3,
   "metadata": {},
   "outputs": [
    {
     "data": {
      "text/plain": [
       "0.9835891762319642"
      ]
     },
     "execution_count": 3,
     "metadata": {},
     "output_type": "execute_result"
    }
   ],
   "source": [
    "def answer_one():\n",
    "    # YOUR CODE HERE\n",
    "    df = pd.read_csv(\"fraud_data.csv\")\n",
    "    counts = df.groupby('Class').size().tolist()\n",
    "    return counts[0]/(counts[0]+counts[1])\n",
    "answer_one()"
   ]
  },
  {
   "cell_type": "code",
   "execution_count": 4,
   "metadata": {},
   "outputs": [],
   "source": [
    "# Use X_train, X_test, y_train, y_test for all of the following questions\n",
    "from sklearn.model_selection import train_test_split\n",
    "\n",
    "df = pd.read_csv('fraud_data.csv')\n",
    "\n",
    "X = df.iloc[:,:-1]\n",
    "y = df.iloc[:,-1]\n",
    "\n",
    "X_train, X_test, y_train, y_test = train_test_split(X, y, random_state=0)"
   ]
  },
  {
   "cell_type": "markdown",
   "metadata": {},
   "source": [
    "### Question 2 (10 points)\n",
    "\n",
    "Using `X_train`, `X_test`, `y_train`, and `y_test` (as defined above), train a dummy classifier that classifies everything as the majority class of the training data. What is the accuracy of this classifier? What is the recall?\n",
    "\n",
    "*This function should a return a tuple with two floats, i.e. `(accuracy score, recall score)`.*"
   ]
  },
  {
   "cell_type": "code",
   "execution_count": 5,
   "metadata": {},
   "outputs": [
    {
     "name": "stdout",
     "output_type": "stream",
     "text": [
      "Accuracy score:  0.9852507374631269\n",
      "Recall score:  0.0\n"
     ]
    },
    {
     "name": "stderr",
     "output_type": "stream",
     "text": [
      "/anaconda3/lib/python3.7/site-packages/sklearn/metrics/classification.py:1137: UndefinedMetricWarning: Recall is ill-defined and being set to 0.0 due to no true samples.\n",
      "  'recall', 'true', average, warn_for)\n"
     ]
    },
    {
     "data": {
      "text/plain": [
       "(0.9852507374631269, 0.0)"
      ]
     },
     "execution_count": 5,
     "metadata": {},
     "output_type": "execute_result"
    }
   ],
   "source": [
    "def answer_two():\n",
    "    # YOUR CODE HERE\n",
    "    from sklearn.dummy import DummyClassifier\n",
    "    from sklearn.metrics import accuracy_score\n",
    "    from sklearn.metrics import recall_score\n",
    "    \n",
    "    dummy_majority = DummyClassifier(strategy='most_frequent').fit(X_train, y_train) \n",
    "    y_pred = dummy_majority.predict(X_test)\n",
    "    accScore = accuracy_score(y_pred, y_test)\n",
    "    recallScore = recall_score(y_pred, y_test)\n",
    "    print(\"Accuracy score: \", accScore)\n",
    "    print(\"Recall score: \", recallScore)\n",
    "    \n",
    "    return accScore, recallScore\n",
    "answer_two()"
   ]
  },
  {
   "cell_type": "markdown",
   "metadata": {},
   "source": [
    "### Question 3 (10 points)\n",
    "\n",
    "Using X_train, X_test, y_train, y_test (as defined above), train a linear support vector classifier using the default parameters. What is the accuracy, recall, and precision of this classifier?\n",
    "\n",
    "*This function should a return a tuple with three floats, i.e. `(accuracy score, recall score, precision score)`.*"
   ]
  },
  {
   "cell_type": "code",
   "execution_count": 6,
   "metadata": {},
   "outputs": [],
   "source": [
    "def answer_three():\n",
    "    # YOUR CODE HERE\n",
    "    from sklearn.svm import SVC\n",
    "    svm = SVC().fit(X_train, y_train)\n",
    "    y_pred = svm.fit(X_test)\n",
    "answer_three()"
   ]
  },
  {
   "cell_type": "markdown",
   "metadata": {},
   "source": [
    "### Question 4 (10 points)\n",
    "\n",
    "Using a non-linear support vector classifier SVC (which defaults to a Radial Basis Function kernel) with parameters `{'C': 1e9, 'gamma': 2e-07}`, what is the confusion matrix when using a threshold of -230 on the decision function? Use X_test and y_test.\n",
    "\n",
    "*This function should return a confusion matrix, a 2x2 numpy array with 4 integers.*"
   ]
  },
  {
   "cell_type": "code",
   "execution_count": 4,
   "metadata": {},
   "outputs": [
    {
     "data": {
      "text/plain": [
       "array([[5336,    8],\n",
       "       [  16,   64]])"
      ]
     },
     "execution_count": 4,
     "metadata": {},
     "output_type": "execute_result"
    }
   ],
   "source": [
    "# To-Do : Using a threshold of -230 on the decision function \n",
    "\n",
    "def answer_four():\n",
    "    # YOUR CODE HERE\n",
    "    from sklearn.svm import SVC\n",
    "    from sklearn.metrics import confusion_matrix\n",
    "    clf = SVC(kernel = 'rbf', gamma = 2e-07,C = 1e9).fit(X_train, y_train)\n",
    "    y_predicted = clf.predict(X_test)\n",
    "    confusion_mc = confusion_matrix(y_test, y_predicted)\n",
    "    return confusion_mc\n",
    "answer_four()"
   ]
  },
  {
   "cell_type": "markdown",
   "metadata": {},
   "source": [
    "### Question 5 (20 points)\n",
    "\n",
    "Train a logistic regression classifier with default parameters using X_train and y_train.\n",
    "\n",
    "For the logistic regression classifier, create (1) a precision-recall curve and (2) a roc curve using y_test and the probability estimates for X_test (probability it is fraud).\n",
    "\n",
    "Looking at the precision recall curve, what is the recall when the precision is `0.75`?\n",
    "\n",
    "Looking at the ROC curve, what is the true positive rate when the false positive rate is `0.16`?\n",
    "\n",
    "*This function should return a tuple with two floats, i.e. `(recall, true positive rate)`.*\n",
    "*You should also includce code to generate the precision/recall and ROC curves above*"
   ]
  },
  {
   "cell_type": "code",
   "execution_count": 14,
   "metadata": {},
   "outputs": [
    {
     "data": {
      "image/png": "[encoded data removed]",
      "text/plain": [
       "<matplotlib.figure.Figure at 0x1a1432bc18>"
      ]
     },
     "metadata": {},
     "output_type": "display_data"
    },
    {
     "data": {
      "image/png": "[encoded data removed]",
      "text/plain": [
       "<matplotlib.figure.Figure at 0x1a25b554e0>"
      ]
     },
     "metadata": {},
     "output_type": "display_data"
    }
   ],
   "source": [
    "# add code here to train the classifier and plot the P/R and ROC curves\n",
    "from sklearn.linear_model import LogisticRegression\n",
    "from sklearn.metrics import precision_recall_curve, roc_curve\n",
    "import matplotlib.pyplot as plt\n",
    "\n",
    "clf = LogisticRegression().fit(X_train, y_train)\n",
    "y_predicted = clf.predict(X_test)\n",
    "\n",
    "precision, recall, thresholds = precision_recall_curve(y_test, clf.decision_function(X_test))\n",
    "plt.figure()\n",
    "plt.plot(precision, recall, label='Precision-Recall Curve')\n",
    "plt.xlabel('Precision', fontsize=16)\n",
    "plt.ylabel('Recall', fontsize=16)\n",
    "plt.show()\n",
    "\n",
    "fpr, tpr, thresholds = roc_curve(y_test, clf.decision_function(X_test))\n",
    "plt.plot(fpr, tpr, label=\"ROC Curve\")\n",
    "plt.xlabel(\"FPR\")\n",
    "plt.ylabel(\"TPR (recall)\")\n",
    "plt.show()"
   ]
  },
  {
   "cell_type": "markdown",
   "metadata": {},
   "source": [
    "### Question 6 (20 points)\n",
    "\n",
    "(a) (13 points) Perform a grid search over the parameters listed below for a Logistic Regression classifier, using recall for scoring and the default 3-fold cross validation.\n",
    "\n",
    "`'penalty': ['l1', 'l2']`\n",
    "\n",
    "`'C':[0.01, 0.1, 0.5, 1, 10, 100]`\n",
    "\n",
    "From `.cv_results_`, create an array of the mean test scores of each parameter combination. i.e.\n",
    "\n",
    "|      \t| `l1` \t| `l2` \t|\n",
    "|:----:\t|----\t|----\t|\n",
    "| **`0.01`** \t|    ?\t|   ? \t|\n",
    "| **`0.1`**  \t|    ?\t|   ? \t|\n",
    "| **`0.5`**  \t|    ?\t|   ? \t|\n",
    "| **`1`**    \t|    ?\t|   ? \t|\n",
    "| **`10`**   \t|    ?\t|   ? \t|\n",
    "| **`100`**  \t|    ?\t|   ? \t|\n",
    "\n",
    "<br>\n",
    "\n",
    "*This function should return a 6 by 2 numpy array with 12 floats.* \n",
    "\n",
    "*Note: do not return a DataFrame, just the values denoted by `?` in a numpy array.*"
   ]
  },
  {
   "cell_type": "code",
   "execution_count": 43,
   "metadata": {},
   "outputs": [
    {
     "name": "stdout",
     "output_type": "stream",
     "text": [
      "[0.68115942 0.77355072 0.80615942 0.8134058  0.81702899 0.81521739\n",
      " 0.81884058 0.81702899 0.82427536 0.82427536 0.82427536 0.82427536]\n",
      "[0.6811594202898551, 0.8061594202898551, 0.8170289855072465, 0.818840579710145, 0.8242753623188405, 0.8242753623188405]\n",
      "[0.7735507246376812, 0.8134057971014493, 0.8152173913043478, 0.8170289855072465, 0.8242753623188405, 0.8242753623188405]\n"
     ]
    },
    {
     "name": "stderr",
     "output_type": "stream",
     "text": [
      "/Users/pandeymauli/anaconda/lib/python3.5/site-packages/sklearn/utils/deprecation.py:122: FutureWarning: You are accessing a training score ('mean_train_score'), which will not be available by default any more in 0.21. If you need training scores, please set return_train_score=True\n",
      "  warnings.warn(*warn_args, **warn_kwargs)\n"
     ]
    },
    {
     "data": {
      "text/plain": [
       "array([[0.68115942, 0.77355072],\n",
       "       [0.80615942, 0.8134058 ],\n",
       "       [0.81702899, 0.81521739],\n",
       "       [0.81884058, 0.81702899],\n",
       "       [0.82427536, 0.82427536],\n",
       "       [0.82427536, 0.82427536]])"
      ]
     },
     "execution_count": 43,
     "metadata": {},
     "output_type": "execute_result"
    }
   ],
   "source": [
    "## 'params': \n",
    "## [{'penalty': 'l1', 'C': 0.01}, {'penalty': 'l2', 'C': 0.01}, {'penalty': 'l1', 'C': 0.1}, {'penalty': 'l2', 'C': 0.1}, {'penalty': 'l1', 'C': 0.5}, {'penalty': 'l2', 'C': 0.5}, {'penalty': 'l1', 'C': 1}, {'penalty': 'l2', 'C': 1}, {'penalty': 'l1', 'C': 10}, {'penalty': 'l2', 'C': 10}, {'penalty': 'l1', 'C': 100}, {'penalty': 'l2', 'C': 100}]\n",
    "def answer_six():    \n",
    "    # YOUR CODE HERE\n",
    "    from sklearn.model_selection import GridSearchCV\n",
    "    clf = LogisticRegression()\n",
    "    grid_values = {'C':[0.01, 0.1, 0.5, 1, 10, 100], 'penalty':[\"l1\",\"l2\"]}\n",
    "    grid_clf = GridSearchCV(clf, param_grid = grid_values, scoring = 'recall')\n",
    "    grid_clf.fit(X_train, y_train)\n",
    "    scores = grid_clf.cv_results_['mean_train_score']\n",
    "    print(scores)\n",
    "    l1_C = [scores[i] for i in range(12) if i%2==0]\n",
    "    l2_C = [scores[i] for i in range(12) if i%2==1]\n",
    "    print(l1_C)\n",
    "    print(l2_C)\n",
    "    arr = np.array([l1_C,l2_C])\n",
    "    return arr.T\n",
    "answer_six()"
   ]
  },
  {
   "cell_type": "markdown",
   "metadata": {},
   "source": [
    "(b) (2 points) *What is the optimal combination of penalty setting and C value?*  (You can use the following helper function to visualize the results from your grid search.)"
   ]
  },
  {
   "cell_type": "code",
   "execution_count": null,
   "metadata": {},
   "outputs": [],
   "source": [
    "# Use the following function to help visualize results from the grid search\n",
    "def GridSearch_Heatmap(scores):\n",
    "    %matplotlib inline\n",
    "    import seaborn as sns\n",
    "    import matplotlib.pyplot as plt\n",
    "    plt.figure()\n",
    "    sns.heatmap(scores.reshape(6,2), xticklabels=['l1','l2'], yticklabels=[0.01, 0.1, 0.5, 1, 10, 100])\n",
    "    plt.yticks(rotation=0);\n",
    "\n",
    "GridSearch_Heatmap(answer_six())"
   ]
  },
  {
   "cell_type": "markdown",
   "metadata": {},
   "source": [
    "(c) (5 points) Your fraud data was provided by a client who represents a large banking company. What is your final recommendation for the type of classifier and settings they should use to detect fraud in their system -- and why?"
   ]
  }
 ],
 "metadata": {
  "anaconda-cloud": {},
  "kernelspec": {
   "display_name": "Python 3",
   "language": "python",
   "name": "python3"
  },
  "language_info": {
   "codemirror_mode": {
    "name": "ipython",
    "version": 3
   },
   "file_extension": ".py",
   "mimetype": "text/x-python",
   "name": "python",
   "nbconvert_exporter": "python",
   "pygments_lexer": "ipython3",
   "version": "3.7.0"
  }
 },
 "nbformat": 4,
 "nbformat_minor": 2
}
